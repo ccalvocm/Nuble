{
 "cells": [
  {
   "cell_type": "code",
   "execution_count": 25,
   "metadata": {
    "scrolled": false
   },
   "outputs": [
    {
     "ename": "ModelStructureError",
     "evalue": "Output node \"REMZemitaI\" is not part of any routes.",
     "output_type": "error",
     "traceback": [
      "\u001b[1;31m---------------------------------------------------------------------------\u001b[0m",
      "\u001b[1;31mModelStructureError\u001b[0m                       Traceback (most recent call last)",
      "Cell \u001b[1;32mIn[25], line 59\u001b[0m\n\u001b[0;32m     55\u001b[0m aqfer\u001b[38;5;241m.\u001b[39mconnect(model\u001b[38;5;241m.\u001b[39mnodes[\u001b[38;5;124m'\u001b[39m\u001b[38;5;124mZemita_mix\u001b[39m\u001b[38;5;124m'\u001b[39m],\n\u001b[0;32m     56\u001b[0m                         from_slot\u001b[38;5;241m=\u001b[39m\u001b[38;5;241m0\u001b[39m)\n\u001b[0;32m     58\u001b[0m model\u001b[38;5;241m.\u001b[39msolver\u001b[38;5;241m.\u001b[39mname\u001b[38;5;241m=\u001b[39m\u001b[38;5;124m\"\u001b[39m\u001b[38;5;124mglpk-edge\u001b[39m\u001b[38;5;124m\"\u001b[39m\n\u001b[1;32m---> 59\u001b[0m stats \u001b[38;5;241m=\u001b[39m \u001b[43mmodel\u001b[49m\u001b[38;5;241;43m.\u001b[39;49m\u001b[43mrun\u001b[49m\u001b[43m(\u001b[49m\u001b[43m)\u001b[49m\n\u001b[0;32m     60\u001b[0m \u001b[38;5;28mprint\u001b[39m(stats)\n\u001b[0;32m     62\u001b[0m plt\u001b[38;5;241m.\u001b[39mfigure()\n",
      "File \u001b[1;32mpywr\\_model.pyx:622\u001b[0m, in \u001b[0;36mpywr._model.Model.run\u001b[1;34m()\u001b[0m\n",
      "File \u001b[1;32mpywr\\_model.pyx:711\u001b[0m, in \u001b[0;36mpywr._model.Model.setup\u001b[1;34m()\u001b[0m\n",
      "File \u001b[1;32mG:\\miniconda3\\envs\\38\\lib\\site-packages\\pywr\\solvers\\__init__.py:111\u001b[0m, in \u001b[0;36mCythonGLPKSolver.setup\u001b[1;34m(self, model)\u001b[0m\n\u001b[0;32m    110\u001b[0m \u001b[38;5;28;01mdef\u001b[39;00m \u001b[38;5;21msetup\u001b[39m(\u001b[38;5;28mself\u001b[39m, model):\n\u001b[1;32m--> 111\u001b[0m     \u001b[38;5;28;01mreturn\u001b[39;00m \u001b[38;5;28;43mself\u001b[39;49m\u001b[38;5;241;43m.\u001b[39;49m\u001b[43m_cy_solver\u001b[49m\u001b[38;5;241;43m.\u001b[39;49m\u001b[43msetup\u001b[49m\u001b[43m(\u001b[49m\u001b[43mmodel\u001b[49m\u001b[43m)\u001b[49m\n",
      "File \u001b[1;32mpywr\\solvers\\cython_glpk.pyx:529\u001b[0m, in \u001b[0;36mpywr.solvers.cython_glpk.CythonGLPKSolver.setup\u001b[1;34m()\u001b[0m\n",
      "\u001b[1;31mModelStructureError\u001b[0m: Output node \"REMZemitaI\" is not part of any routes."
     ]
    }
   ],
   "source": [
    "from pywr.core import Model\n",
    "from pywr.notebook import draw_graph\n",
    "import matplotlib.pyplot as plt\n",
    "import os\n",
    "from pywr.domains.groundwater import KeatingAquifer\n",
    "from pywr.parameters.groundwater import KeatingStreamFlowParameter\n",
    "from pywr.core import Model, Input, Output, Link, Storage, Node, Catchment\n",
    "from pywr.recorders import (\n",
    "    NumpyArrayNodeRecorder,\n",
    "    NumpyArrayLevelRecorder,\n",
    "    NumpyArrayStorageRecorder,\n",
    ")\n",
    "import pandas\n",
    "import numpy as np\n",
    "import pytest\n",
    "\n",
    "def createAquifer(model,name):\n",
    "    num_streams = 1\n",
    "    num_additional_inputs = 0\n",
    "    stream_flow_levels = [[1.0, 1.25]]  # m\n",
    "    transmissivity = [100, 2000]  # m2/d\n",
    "    transmissivity = [t * 0.001 for t in transmissivity]  # m3 to Ml\n",
    "    coefficient = 1  # no units\n",
    "    storativity = [0.0005]  # % este parámetro es clave\n",
    "    levels = [1.0, 10.0]  # m\n",
    "    area = 50000 * 50000  # m2\n",
    "    \n",
    "    aqfer=KeatingAquifer(\n",
    "        model,\n",
    "        name,\n",
    "        num_streams,\n",
    "        num_additional_inputs,\n",
    "        stream_flow_levels,\n",
    "        transmissivity,\n",
    "        coefficient,\n",
    "        levels,\n",
    "        area=area,\n",
    "        storativity=storativity)\n",
    "\n",
    "    aqfer.initial_level=1\n",
    "    \n",
    "    return aqfer\n",
    "\n",
    "if __name__ == \"__main__\":\n",
    "    \n",
    "    path=\"nuble.json\"\n",
    "    model = Model.load(path)\n",
    "        \n",
    "    aqfer=createAquifer(model,'AC01_NIQ')\n",
    "        \n",
    "    model.nodes['REMZemitaI'].connect(aqfer)\n",
    "#     model.nodes['Zemita_b'].connect(aqfer)\n",
    "    aqfer.connect(model.nodes['abstraccionAq'],\n",
    "                            from_slot=0)\n",
    "    aqfer.connect(model.nodes['Zemita_mix'],\n",
    "                            from_slot=0)\n",
    "\n",
    "    model.solver.name=\"glpk-edge\"\n",
    "    stats = model.run()\n",
    "    print(stats)\n",
    "    \n",
    "    plt.figure()\n",
    "    draw_graph(model,labels=True,attributes=True,\n",
    "               width=900,height=900)\n",
    "    plt.show()\n"
   ]
  },
  {
   "cell_type": "code",
   "execution_count": 22,
   "metadata": {},
   "outputs": [
    {
     "name": "stdout",
     "output_type": "stream",
     "text": [
      "[28.57142857]\n",
      "[14.28571429]\n",
      "[14.28571429]\n",
      "[0.]\n"
     ]
    }
   ],
   "source": [
    "#validar el balance de masa en canal Virguin\n",
    "print(model.nodes[\"FRVirguin\"].flow)\n",
    "print(model.nodes[\"VirguinJFR\"].flow)\n",
    "print(model.nodes[\"REMVirguinJFR\"].flow)\n",
    "#validar balance de masa en canal Zemita\n",
    "print(model.nodes[\"REMZemita\"].flow)\n"
   ]
  },
  {
   "cell_type": "code",
   "execution_count": 2,
   "metadata": {},
   "outputs": [],
   "source": [
    "# from pywr.notebook import to_html\n",
    "# to_html(m,height=800,width=800,labels=True,attributes=True,title='Modelo Cuenca del Río Huasco')"
   ]
  },
  {
   "cell_type": "code",
   "execution_count": 10,
   "metadata": {},
   "outputs": [],
   "source": [
    "from pywr.notebook import pywr_model_to_d3_json\n",
    "d3json=pywr_model_to_d3_json(model)\n",
    "import json\n",
    "with open(\"./d3.json\", \"w\") as fp:\n",
    "    json.dump(d3json,fp) "
   ]
  },
  {
   "cell_type": "code",
   "execution_count": null,
   "metadata": {},
   "outputs": [],
   "source": []
  }
 ],
 "metadata": {
  "kernelspec": {
   "display_name": "38",
   "language": "python",
   "name": "38"
  },
  "language_info": {
   "codemirror_mode": {
    "name": "ipython",
    "version": 3
   },
   "file_extension": ".py",
   "mimetype": "text/x-python",
   "name": "python",
   "nbconvert_exporter": "python",
   "pygments_lexer": "ipython3",
   "version": "3.8.15"
  },
  "toc-autonumbering": false,
  "toc-showcode": true
 },
 "nbformat": 4,
 "nbformat_minor": 4
}
