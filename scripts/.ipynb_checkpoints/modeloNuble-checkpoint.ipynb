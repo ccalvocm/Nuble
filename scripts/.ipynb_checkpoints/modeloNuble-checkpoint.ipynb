{
 "cells": [
  {
   "cell_type": "code",
   "execution_count": 15,
   "metadata": {},
   "outputs": [
    {
     "name": "stdout",
     "output_type": "stream",
     "text": [
      "G:\\Nuble\\scripts\n"
     ]
    },
    {
     "ename": "ModelStructureError",
     "evalue": "Output node \"Alazan\" is not part of any routes.",
     "output_type": "error",
     "traceback": [
      "\u001b[1;31m---------------------------------------------------------------------------\u001b[0m",
      "\u001b[1;31mModelStructureError\u001b[0m                       Traceback (most recent call last)",
      "Cell \u001b[1;32mIn[15], line 16\u001b[0m\n\u001b[0;32m     14\u001b[0m     m \u001b[38;5;241m=\u001b[39m Model\u001b[38;5;241m.\u001b[39mload(modelo)\n\u001b[0;32m     15\u001b[0m     m\u001b[38;5;241m.\u001b[39msolver\u001b[38;5;241m.\u001b[39mname\u001b[38;5;241m=\u001b[39m\u001b[38;5;124m\"\u001b[39m\u001b[38;5;124mglpk-edge\u001b[39m\u001b[38;5;124m\"\u001b[39m\n\u001b[1;32m---> 16\u001b[0m     stats \u001b[38;5;241m=\u001b[39m \u001b[43mm\u001b[49m\u001b[38;5;241;43m.\u001b[39;49m\u001b[43mrun\u001b[49m\u001b[43m(\u001b[49m\u001b[43m)\u001b[49m\n\u001b[0;32m     17\u001b[0m     \u001b[38;5;28mprint\u001b[39m(stats)\n\u001b[0;32m     19\u001b[0m \u001b[38;5;66;03m#     df = m.to_dataframe()\u001b[39;00m\n\u001b[0;32m     20\u001b[0m \u001b[38;5;66;03m#     colsQ=[x for x in df.columns if 'Storage' not in x[0]]\u001b[39;00m\n\u001b[0;32m     21\u001b[0m \u001b[38;5;66;03m# #     pasar a m3/s\u001b[39;00m\n\u001b[1;32m   (...)\u001b[0m\n\u001b[0;32m     31\u001b[0m \u001b[38;5;66;03m#     draw_graph(m,labels = True, attributes = True,width=900,height=900)\u001b[39;00m\n\u001b[0;32m     32\u001b[0m \u001b[38;5;66;03m#     plt.show()\u001b[39;00m\n",
      "File \u001b[1;32mpywr\\_model.pyx:622\u001b[0m, in \u001b[0;36mpywr._model.Model.run\u001b[1;34m()\u001b[0m\n",
      "File \u001b[1;32mpywr\\_model.pyx:711\u001b[0m, in \u001b[0;36mpywr._model.Model.setup\u001b[1;34m()\u001b[0m\n",
      "File \u001b[1;32mC:\\tools\\miniconda3\\envs\\38\\lib\\site-packages\\pywr\\solvers\\__init__.py:111\u001b[0m, in \u001b[0;36mCythonGLPKSolver.setup\u001b[1;34m(self, model)\u001b[0m\n\u001b[0;32m    110\u001b[0m \u001b[38;5;28;01mdef\u001b[39;00m \u001b[38;5;21msetup\u001b[39m(\u001b[38;5;28mself\u001b[39m, model):\n\u001b[1;32m--> 111\u001b[0m     \u001b[38;5;28;01mreturn\u001b[39;00m \u001b[38;5;28;43mself\u001b[39;49m\u001b[38;5;241;43m.\u001b[39;49m\u001b[43m_cy_solver\u001b[49m\u001b[38;5;241;43m.\u001b[39;49m\u001b[43msetup\u001b[49m\u001b[43m(\u001b[49m\u001b[43mmodel\u001b[49m\u001b[43m)\u001b[49m\n",
      "File \u001b[1;32mpywr\\solvers\\cython_glpk.pyx:529\u001b[0m, in \u001b[0;36mpywr.solvers.cython_glpk.CythonGLPKSolver.setup\u001b[1;34m()\u001b[0m\n",
      "\u001b[1;31mModelStructureError\u001b[0m: Output node \"Alazan\" is not part of any routes."
     ]
    }
   ],
   "source": [
    "from pywr.core import Model\n",
    "from pywr.recorders import Recorder\n",
    "from pywr.recorders._recorders import NodeRecorder\n",
    "from pywr.notebook import draw_graph\n",
    "from pywr.notebook import pywr_model_to_d3_json\n",
    "import matplotlib.pyplot as plt\n",
    "import os\n",
    "\n",
    "if __name__ == \"__main__\":\n",
    "    \n",
    "    modelo=\"nuble.json\"\n",
    "    m = Model.load(modelo)\n",
    "    m.solver.name=\"glpk-edge\"\n",
    "    stats = m.run()\n",
    "    print(stats)\n",
    "\n",
    "#     df = m.to_dataframe()\n",
    "#     colsQ=[x for x in df.columns if 'Storage' not in x[0]]\n",
    "# #     pasar a m3/s\n",
    "#     df[colsQ]=df[colsQ]/86400.\n",
    "#     axis=df.plot(subplots=True, figsize = (12,6),layout=(4,4))\n",
    "#     for i,a in enumerate(axis.reshape(-1)):\n",
    "#         a.legend(loc='best', prop={'size': 6})\n",
    "# #     plt.show()\n",
    "#     plt.savefig('resHuascoSup.svg',bbox_inches='tight')\n",
    "#     df.to_csv(r'resultadosModelo.csv')\n",
    "    \n",
    "#     plt.figure()\n",
    "#     draw_graph(m,labels = True, attributes = True,width=900,height=900)\n",
    "#     plt.show()\n"
   ]
  },
  {
   "cell_type": "code",
   "execution_count": 44,
   "metadata": {},
   "outputs": [],
   "source": [
    "# from pywr.notebook import to_html\n",
    "# to_html(m,height=800,width=800,labels=True,attributes=True,title='Modelo Cuenca del Río Huasco')"
   ]
  },
  {
   "cell_type": "code",
   "execution_count": null,
   "metadata": {},
   "outputs": [],
   "source": [
    "from pywr.notebook import pywr_model_to_d3_json\n",
    "d3json=pywr_model_to_d3_json(m)\n",
    "import json\n",
    "with open(\"./d3.json\", \"w\") as fp:\n",
    "    json.dump(d3json,fp) "
   ]
  },
  {
   "cell_type": "code",
   "execution_count": null,
   "metadata": {},
   "outputs": [],
   "source": []
  }
 ],
 "metadata": {
  "kernelspec": {
   "display_name": "38",
   "language": "python",
   "name": "38"
  },
  "language_info": {
   "codemirror_mode": {
    "name": "ipython",
    "version": 3
   },
   "file_extension": ".py",
   "mimetype": "text/x-python",
   "name": "python",
   "nbconvert_exporter": "python",
   "pygments_lexer": "ipython3",
   "version": "3.8.15"
  },
  "toc-autonumbering": false,
  "toc-showcode": true
 },
 "nbformat": 4,
 "nbformat_minor": 4
}
