{
 "cells": [
  {
   "cell_type": "code",
   "execution_count": null,
   "id": "1abc704a",
   "metadata": {},
   "outputs": [],
   "source": [
    "import pywr\n",
    "from pywr.core import Model\n",
    "from pywr.core import Model, Input, Output, Catchment\n",
    "from pywr.parameters import MonthlyProfileParameter\n",
    "from pywr.domains import river\n",
    "from numpy.testing import assert_allclose\n",
    "import pytest\n",
    "from pywr.notebook import draw_graph\n",
    "import os\n",
    "\n",
    "path=os.path.join('..','tests','rioTest.json')\n",
    "model = Model.load(path)\n",
    "\n",
    "node = model.nodes[\"mrf\"]\n",
    "demand = model.nodes[\"demanda1\"]\n",
    "\n",
    "# test getting properties\n",
    "assert isinstance(node.mrf, MonthlyProfileParameter)\n",
    "assert_allclose(node.mrf_cost, -1000)\n",
    "assert_allclose(node.cost, 0.0)\n",
    "\n",
    "# test setting properties\n",
    "node.mrf = 40\n",
    "node.mrf_cost = -999\n",
    "# assert_allclose(node.mrf, 40)\n",
    "# assert_allclose(node.mrf_cost, -999)\n",
    "\n",
    "# run the model and see if it works\n",
    "model.run()\n",
    "draw_graph(model, labels = True, attributes = True, width=900,height=900)\n"
   ]
  },
  {
   "cell_type": "code",
   "execution_count": null,
   "id": "d6450520",
   "metadata": {},
   "outputs": [],
   "source": []
  }
 ],
 "metadata": {
  "kernelspec": {
   "display_name": "38",
   "language": "python",
   "name": "38"
  },
  "language_info": {
   "codemirror_mode": {
    "name": "ipython",
    "version": 3
   },
   "file_extension": ".py",
   "mimetype": "text/x-python",
   "name": "python",
   "nbconvert_exporter": "python",
   "pygments_lexer": "ipython3",
   "version": "3.8.15"
  }
 },
 "nbformat": 4,
 "nbformat_minor": 5
}
