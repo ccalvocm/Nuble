{
 "cells": [
  {
   "cell_type": "code",
   "execution_count": 66,
   "metadata": {
    "scrolled": false
   },
   "outputs": [
    {
     "ename": "KeyError",
     "evalue": "\"'REMSantaRosaCatoSub'\"",
     "output_type": "error",
     "traceback": [
      "\u001b[1;31m---------------------------------------------------------------------------\u001b[0m",
      "\u001b[1;31mKeyError\u001b[0m                                  Traceback (most recent call last)",
      "Cell \u001b[1;32mIn[66], line 103\u001b[0m\n\u001b[0;32m     95\u001b[0m     recargas\u001b[38;5;241m=\u001b[39m[\u001b[38;5;124m'\u001b[39m\u001b[38;5;124mREMCollicoSub\u001b[39m\u001b[38;5;124m'\u001b[39m,\u001b[38;5;124m'\u001b[39m\u001b[38;5;124mREMChacayalOSub\u001b[39m\u001b[38;5;124m'\u001b[39m,\u001b[38;5;124m'\u001b[39m\u001b[38;5;124mREMChacayalPSub\u001b[39m\u001b[38;5;124m'\u001b[39m,\u001b[38;5;124m'\u001b[39m\u001b[38;5;124mREMMuticuraSub\u001b[39m\u001b[38;5;124m'\u001b[39m,\n\u001b[0;32m     96\u001b[0m \u001b[38;5;124m'\u001b[39m\u001b[38;5;124mREMBellavistaSub\u001b[39m\u001b[38;5;124m'\u001b[39m,\u001b[38;5;124m'\u001b[39m\u001b[38;5;124mREMMonteBlancoBSub\u001b[39m\u001b[38;5;124m'\u001b[39m,\u001b[38;5;124m'\u001b[39m\u001b[38;5;124mREMPomuyetoBajoASub\u001b[39m\u001b[38;5;124m'\u001b[39m,\u001b[38;5;124m'\u001b[39m\u001b[38;5;124mREMPomuyetoBajoBSub\u001b[39m\u001b[38;5;124m'\u001b[39m,\n\u001b[0;32m     97\u001b[0m \u001b[38;5;124m'\u001b[39m\u001b[38;5;124mREMLasDumasSub\u001b[39m\u001b[38;5;124m'\u001b[39m,\u001b[38;5;124m'\u001b[39m\u001b[38;5;124mREMQuileltoSub\u001b[39m\u001b[38;5;124m'\u001b[39m,\u001b[38;5;124m'\u001b[39m\u001b[38;5;124mREMMBFerradaSub\u001b[39m\u001b[38;5;124m'\u001b[39m,\u001b[38;5;124m'\u001b[39m\u001b[38;5;124mREMStaRosaNSub\u001b[39m\u001b[38;5;124m'\u001b[39m,\u001b[38;5;124m'\u001b[39m\u001b[38;5;124mREMMBMendezSub\u001b[39m\u001b[38;5;124m'\u001b[39m,\n\u001b[0;32m     98\u001b[0m \u001b[38;5;124m'\u001b[39m\u001b[38;5;124mREMElPenonSub\u001b[39m\u001b[38;5;124m'\u001b[39m,\u001b[38;5;124m'\u001b[39m\u001b[38;5;124mREMAlazanSub\u001b[39m\u001b[38;5;124m'\u001b[39m,\u001b[38;5;124m'\u001b[39m\u001b[38;5;124mREMRelocaSub\u001b[39m\u001b[38;5;124m'\u001b[39m,\u001b[38;5;124m'\u001b[39m\u001b[38;5;124mREMRomeralSub\u001b[39m\u001b[38;5;124m'\u001b[39m,\u001b[38;5;124m'\u001b[39m\u001b[38;5;124mREMSanLuisCSub\u001b[39m\u001b[38;5;124m'\u001b[39m,\n\u001b[0;32m     99\u001b[0m \u001b[38;5;124m'\u001b[39m\u001b[38;5;124mREMQuinquehuaSub\u001b[39m\u001b[38;5;124m'\u001b[39m,\u001b[38;5;124m'\u001b[39m\u001b[38;5;124mREMSantaRosaCatoSub\u001b[39m\u001b[38;5;124m'\u001b[39m]\n\u001b[0;32m    101\u001b[0m     descargas\u001b[38;5;241m=\u001b[39m[\u001b[38;5;124m'\u001b[39m\u001b[38;5;124mabstraccionAqNub\u001b[39m\u001b[38;5;124m'\u001b[39m]\u001b[38;5;241m+\u001b[39mgetDischarge(recargas)\n\u001b[1;32m--> 103\u001b[0m     model,aqferNiquen\u001b[38;5;241m=\u001b[39m\u001b[43mconnectAquifer\u001b[49m\u001b[43m(\u001b[49m\u001b[43mmodel\u001b[49m\u001b[43m,\u001b[49m\u001b[43maqferNuble\u001b[49m\u001b[43m,\u001b[49m\n\u001b[0;32m    104\u001b[0m \u001b[43mrecargas\u001b[49m\u001b[43m,\u001b[49m\u001b[43mdescargas\u001b[49m\u001b[43m)\u001b[49m\n\u001b[0;32m    106\u001b[0m \u001b[38;5;66;03m#     conectar los nodos de déficit que faltan\u001b[39;00m\n\u001b[0;32m    107\u001b[0m     entradas\u001b[38;5;241m=\u001b[39m[\u001b[38;5;124m'\u001b[39m\u001b[38;5;124mdeficitCollico\u001b[39m\u001b[38;5;124m'\u001b[39m,\u001b[38;5;124m'\u001b[39m\u001b[38;5;124mdeficitChacayalO\u001b[39m\u001b[38;5;124m'\u001b[39m,\u001b[38;5;124m'\u001b[39m\u001b[38;5;124mdeficitChacayalP\u001b[39m\u001b[38;5;124m'\u001b[39m,\n\u001b[0;32m    108\u001b[0m \u001b[38;5;124m'\u001b[39m\u001b[38;5;124mdeficitMunicipal\u001b[39m\u001b[38;5;124m'\u001b[39m,\u001b[38;5;124m'\u001b[39m\u001b[38;5;124mdeficitRanchilloGP\u001b[39m\u001b[38;5;124m'\u001b[39m,\n\u001b[0;32m    109\u001b[0m \u001b[38;5;124m'\u001b[39m\u001b[38;5;124mdeficitSanPedro\u001b[39m\u001b[38;5;124m'\u001b[39m,\u001b[38;5;124m'\u001b[39m\u001b[38;5;124mdeficitArrauNiquen\u001b[39m\u001b[38;5;124m'\u001b[39m,\u001b[38;5;124m'\u001b[39m\u001b[38;5;124mdeficitLurinSilva\u001b[39m\u001b[38;5;124m'\u001b[39m,\u001b[38;5;124m'\u001b[39m\u001b[38;5;124mdeficitMuticura\u001b[39m\u001b[38;5;124m'\u001b[39m,\n\u001b[1;32m   (...)\u001b[0m\n\u001b[0;32m    113\u001b[0m \u001b[38;5;124m'\u001b[39m\u001b[38;5;124mdeficitMBMendez\u001b[39m\u001b[38;5;124m'\u001b[39m,\u001b[38;5;124m'\u001b[39m\u001b[38;5;124mdeficitElPenon\u001b[39m\u001b[38;5;124m'\u001b[39m,\u001b[38;5;124m'\u001b[39m\u001b[38;5;124mdeficitAlazan\u001b[39m\u001b[38;5;124m'\u001b[39m,\u001b[38;5;124m'\u001b[39m\u001b[38;5;124mdeficitReloca\u001b[39m\u001b[38;5;124m'\u001b[39m,\u001b[38;5;124m'\u001b[39m\u001b[38;5;124mdeficitRomeral\u001b[39m\u001b[38;5;124m'\u001b[39m,\n\u001b[0;32m    114\u001b[0m \u001b[38;5;124m'\u001b[39m\u001b[38;5;124mdeficitSanLuisC\u001b[39m\u001b[38;5;124m'\u001b[39m,\u001b[38;5;124m'\u001b[39m\u001b[38;5;124mdeficitQuinquehua\u001b[39m\u001b[38;5;124m'\u001b[39m,\u001b[38;5;124m'\u001b[39m\u001b[38;5;124mdeficitSantaRosaCato\u001b[39m\u001b[38;5;124m'\u001b[39m]\n",
      "Cell \u001b[1;32mIn[66], line 46\u001b[0m, in \u001b[0;36mconnectAquifer\u001b[1;34m(modelo, acuifero, nodosRecarga, nodosDescarga)\u001b[0m\n\u001b[0;32m     44\u001b[0m \u001b[38;5;28;01mdef\u001b[39;00m \u001b[38;5;21mconnectAquifer\u001b[39m(modelo,acuifero,nodosRecarga,nodosDescarga):\n\u001b[0;32m     45\u001b[0m     \u001b[38;5;28;01mfor\u001b[39;00m nodoR \u001b[38;5;129;01min\u001b[39;00m nodosRecarga:\n\u001b[1;32m---> 46\u001b[0m         \u001b[43mmodel\u001b[49m\u001b[38;5;241;43m.\u001b[39;49m\u001b[43mnodes\u001b[49m\u001b[43m[\u001b[49m\u001b[43mnodoR\u001b[49m\u001b[43m]\u001b[49m\u001b[38;5;241m.\u001b[39mconnect(acuifero)\n\u001b[0;32m     48\u001b[0m     \u001b[38;5;28;01mfor\u001b[39;00m nodoD \u001b[38;5;129;01min\u001b[39;00m nodosDescarga:\n\u001b[0;32m     49\u001b[0m         acuifero\u001b[38;5;241m.\u001b[39mconnect(modelo\u001b[38;5;241m.\u001b[39mnodes[nodoD],from_slot\u001b[38;5;241m=\u001b[39m\u001b[38;5;241m0\u001b[39m)\n",
      "File \u001b[1;32mpywr\\_model.pyx:931\u001b[0m, in \u001b[0;36mpywr._model.NodeIterator.__getitem__\u001b[1;34m()\u001b[0m\n",
      "\u001b[1;31mKeyError\u001b[0m: \"'REMSantaRosaCatoSub'\""
     ]
    }
   ],
   "source": [
    "from pywr.core import Model\n",
    "from pywr.notebook import draw_graph\n",
    "import matplotlib.pyplot as plt\n",
    "import os\n",
    "from pywr.domains.groundwater import KeatingAquifer\n",
    "from pywr.parameters.groundwater import KeatingStreamFlowParameter\n",
    "from pywr.core import Model, Input, Output, Link, Storage, Node, Catchment\n",
    "from pywr.recorders import (\n",
    "    NumpyArrayNodeRecorder,\n",
    "    NumpyArrayLevelRecorder,\n",
    "    NumpyArrayStorageRecorder,\n",
    ")\n",
    "import pandas\n",
    "import numpy as np\n",
    "import pytest\n",
    "\n",
    "def createAquifer(model,name):\n",
    "    num_streams = 1\n",
    "    num_additional_inputs = 0\n",
    "    stream_flow_levels = [[1.0, 10.0]]  # m\n",
    "    transmissivity = [100, 2000]  # m2/d\n",
    "    transmissivity = [t * 0.0001 for t in transmissivity]  # m3 to Ml\n",
    "    coefficient = 1  # no units\n",
    "    storativity = [0.000005]  # % este parámetro es clave\n",
    "    levels = [1.0, 10.0]  # m\n",
    "    area = 5000 * 5000  # m2\n",
    "    \n",
    "    aqfer=KeatingAquifer(\n",
    "        model,\n",
    "        name,\n",
    "        num_streams,\n",
    "        num_additional_inputs,\n",
    "        stream_flow_levels,\n",
    "        transmissivity,\n",
    "        coefficient,\n",
    "        levels,\n",
    "        area=area,\n",
    "        storativity=storativity)\n",
    "\n",
    "    aqfer.initial_level=1\n",
    "    \n",
    "    return aqfer\n",
    "\n",
    "def connectAquifer(modelo,acuifero,nodosRecarga,nodosDescarga):\n",
    "    for nodoR in nodosRecarga:\n",
    "        model.nodes[nodoR].connect(acuifero)\n",
    "    \n",
    "    for nodoD in nodosDescarga:\n",
    "        acuifero.connect(modelo.nodes[nodoD],from_slot=0)\n",
    "    \n",
    "    return modelo,acuifero\n",
    "    \n",
    "def connectNodes(modelo,entradas,salidas):\n",
    "    \n",
    "    for ind,entrada in enumerate(entradas):\n",
    "        modelo.nodes[entrada].connect(model.nodes[salidas[ind]])\n",
    "           \n",
    "    return modelo\n",
    "\n",
    "def getDischarge(lista):\n",
    "    return ['deficit'+x.replace('REM','').replace('Sub','') for x in lista]\n",
    "\n",
    "def getOutputs(lista):\n",
    "    return [x.replace('deficit','')+'Mix' for x in lista]\n",
    "\n",
    "if __name__ == \"__main__\":\n",
    "    \n",
    "    path=\"nuble.json\"\n",
    "    model = Model.load(path)\n",
    "    \n",
    "#     crear objetos acuíferos\n",
    "    aqferNiquen=createAquifer(model,'AC01_NIQ')\n",
    "    aqferChan=createAquifer(model,'AC02_CHA')\n",
    "    aqferNuble=createAquifer(model,'AC03_NUB')\n",
    "    \n",
    "#     conectar nodos existentes al acuifero Ñiquen\n",
    "    recargas=['REMJFRVirguinZemitaSub','REMSanPedroSub']\n",
    "    descargas=['abstraccionAqNiq']+getDischarge(recargas)\n",
    "    model,aqferNiquen=connectAquifer(model,aqferNiquen,recargas,\n",
    "                                     descargas)\n",
    "\n",
    "#     conectar nodos existentes al acuifero Changaral\n",
    "    recargas=['REMGYMSub','REMMunicipalSub','REMSACCSSub','REMSACCSSub',\n",
    "'REMRanchilloGPSub','REMArrauNiquenSub','REMLurinSilvaSub','REMSSaraPomSMartaSub',\n",
    "'REMLilahueMoreiraSub']\n",
    "    \n",
    "    descargas=['abstraccionAqCha','GreeneYMairaMix','deficitMunicipal',\n",
    "'deficitSACCS','deficitRanchilloGP','deficitArrauNiquen',\n",
    "'deficitLurinSilva','deficitSSaraPomSMarta',\n",
    "'deficitLilahueMoreira']\n",
    "    \n",
    "    model,aqferChan=connectAquifer(model,aqferChan,recargas,descargas)\n",
    "    \n",
    "#     conectar nodos existentes al acuifero Ñuble\n",
    "    recargas=['REMCollicoSub','REMChacayalOSub','REMChacayalPSub','REMMuticuraSub',\n",
    "'REMBellavistaSub','REMMonteBlancoBSub','REMPomuyetoBajoASub','REMPomuyetoBajoBSub',\n",
    "'REMLasDumasSub','REMQuileltoSub','REMMBFerradaSub','REMStaRosaNSub','REMMBMendezSub',\n",
    "'REMElPenonSub','REMAlazanSub','REMRelocaSub','REMRomeralSub','REMSanLuisCSub',\n",
    "'REMQuinquehuaSub','REMSantaRosaCatoSub']\n",
    "    \n",
    "    descargas=['abstraccionAqNub']+getDischarge(recargas)\n",
    "    \n",
    "    model,aqferNiquen=connectAquifer(model,aqferNuble,\n",
    "recargas,descargas)\n",
    "        \n",
    "#     conectar los nodos de déficit que faltan\n",
    "    entradas=['deficitCollico','deficitChacayalO','deficitChacayalP',\n",
    "'deficitMunicipal','deficitRanchilloGP',\n",
    "'deficitSanPedro','deficitArrauNiquen','deficitLurinSilva','deficitMuticura',\n",
    "'deficitSSaraPomSMarta',\n",
    "'deficitLilahueMoreira','deficitMonteBlancoB','deficitPomuyetoBajoA','deficitPomuyetoBajoB',\n",
    "'deficitLasDumas','deficitQuilelto','deficitMBFerrada','deficitStaRosaN',\n",
    "'deficitMBMendez','deficitElPenon','deficitAlazan','deficitReloca','deficitRomeral',\n",
    "'deficitSanLuisC','deficitQuinquehua','deficitSantaRosaCato']\n",
    "    \n",
    "    salidas=getOutputs(entradas)\n",
    "\n",
    "#     conectar los sitios de bombeo de aguas subterráneas\n",
    "    model=connectNodes(model,entradas,salidas)\n",
    "\n",
    "    plt.figure()\n",
    "    draw_graph(model,labels=True,attributes=False,\n",
    "               width=1100,height=1100)\n",
    "    plt.show()"
   ]
  },
  {
   "cell_type": "code",
   "execution_count": 57,
   "metadata": {},
   "outputs": [
    {
     "ename": "KeyboardInterrupt",
     "evalue": "",
     "output_type": "error",
     "traceback": [
      "\u001b[1;31m---------------------------------------------------------------------------\u001b[0m",
      "\u001b[1;31mKeyboardInterrupt\u001b[0m                         Traceback (most recent call last)",
      "Cell \u001b[1;32mIn[57], line 3\u001b[0m\n\u001b[0;32m      1\u001b[0m \u001b[38;5;66;03m#     correr modelo\u001b[39;00m\n\u001b[0;32m      2\u001b[0m model\u001b[38;5;241m.\u001b[39msolver\u001b[38;5;241m.\u001b[39mname\u001b[38;5;241m=\u001b[39m\u001b[38;5;124m\"\u001b[39m\u001b[38;5;124mglpk-edge\u001b[39m\u001b[38;5;124m\"\u001b[39m\n\u001b[1;32m----> 3\u001b[0m stats \u001b[38;5;241m=\u001b[39m \u001b[43mmodel\u001b[49m\u001b[38;5;241;43m.\u001b[39;49m\u001b[43mrun\u001b[49m\u001b[43m(\u001b[49m\u001b[43m)\u001b[49m\n\u001b[0;32m      4\u001b[0m \u001b[38;5;28mprint\u001b[39m(stats)\n",
      "File \u001b[1;32mpywr\\_model.pyx:622\u001b[0m, in \u001b[0;36mpywr._model.Model.run\u001b[1;34m()\u001b[0m\n",
      "File \u001b[1;32mpywr\\_model.pyx:711\u001b[0m, in \u001b[0;36mpywr._model.Model.setup\u001b[1;34m()\u001b[0m\n",
      "File \u001b[1;32mG:\\miniconda3\\envs\\38\\lib\\site-packages\\pywr\\solvers\\__init__.py:111\u001b[0m, in \u001b[0;36mCythonGLPKSolver.setup\u001b[1;34m(self, model)\u001b[0m\n\u001b[0;32m    110\u001b[0m \u001b[38;5;28;01mdef\u001b[39;00m \u001b[38;5;21msetup\u001b[39m(\u001b[38;5;28mself\u001b[39m, model):\n\u001b[1;32m--> 111\u001b[0m     \u001b[38;5;28;01mreturn\u001b[39;00m \u001b[38;5;28;43mself\u001b[39;49m\u001b[38;5;241;43m.\u001b[39;49m\u001b[43m_cy_solver\u001b[49m\u001b[38;5;241;43m.\u001b[39;49m\u001b[43msetup\u001b[49m\u001b[43m(\u001b[49m\u001b[43mmodel\u001b[49m\u001b[43m)\u001b[49m\n",
      "File \u001b[1;32mpywr\\solvers\\cython_glpk.pyx:424\u001b[0m, in \u001b[0;36mpywr.solvers.cython_glpk.CythonGLPKSolver.setup\u001b[1;34m()\u001b[0m\n",
      "File \u001b[1;32mpywr\\_model.pyx:523\u001b[0m, in \u001b[0;36mpywr._model.Model.find_all_routes\u001b[1;34m()\u001b[0m\n",
      "File \u001b[1;32mG:\\miniconda3\\envs\\38\\lib\\site-packages\\networkx\\algorithms\\simple_paths.py:285\u001b[0m, in \u001b[0;36m_all_simple_paths_graph\u001b[1;34m(G, source, targets, cutoff)\u001b[0m\n\u001b[0;32m    283\u001b[0m visited[child] \u001b[38;5;241m=\u001b[39m \u001b[38;5;28;01mTrue\u001b[39;00m\n\u001b[0;32m    284\u001b[0m \u001b[38;5;28;01mif\u001b[39;00m targets \u001b[38;5;241m-\u001b[39m \u001b[38;5;28mset\u001b[39m(visited\u001b[38;5;241m.\u001b[39mkeys()):  \u001b[38;5;66;03m# expand stack until find all targets\u001b[39;00m\n\u001b[1;32m--> 285\u001b[0m     \u001b[43mstack\u001b[49m\u001b[38;5;241;43m.\u001b[39;49m\u001b[43mappend\u001b[49m\u001b[43m(\u001b[49m\u001b[38;5;28;43miter\u001b[39;49m\u001b[43m(\u001b[49m\u001b[43mG\u001b[49m\u001b[43m[\u001b[49m\u001b[43mchild\u001b[49m\u001b[43m]\u001b[49m\u001b[43m)\u001b[49m\u001b[43m)\u001b[49m\n\u001b[0;32m    286\u001b[0m \u001b[38;5;28;01melse\u001b[39;00m:\n\u001b[0;32m    287\u001b[0m     visited\u001b[38;5;241m.\u001b[39mpopitem()  \u001b[38;5;66;03m# maybe other ways to child\u001b[39;00m\n",
      "\u001b[1;31mKeyboardInterrupt\u001b[0m: "
     ]
    }
   ],
   "source": [
    "#     correr modelo\n",
    "model.solver.name=\"glpk-edge\"\n",
    "stats = model.run()\n",
    "print(stats)\n",
    "    "
   ]
  },
  {
   "cell_type": "code",
   "execution_count": 3,
   "metadata": {},
   "outputs": [],
   "source": [
    "from pywr.notebook import to_html\n",
    "to_html(model,title=\"Sistema Rio Nuble\")"
   ]
  },
  {
   "cell_type": "code",
   "execution_count": null,
   "metadata": {},
   "outputs": [],
   "source": [
    "# bocatoma 3\n",
    "print((1000-model.nodes[\"bocatoma3\"].flow)/2)\n",
    "#validar el balance de masa en canal Virguin\n",
    "print(model.nodes[\"FRVirguin\"].flow)\n",
    "print(model.nodes[\"REMVirguinJFR\"].flow)\n",
    "#validar balance de masa en canal Collico\n",
    "print(model.nodes[\"CollicoSup\"].flow)\n",
    "print(model.nodes[\"CollicoMix\"].flow)\n",
    "print(model.nodes[\"REMCollico\"].flow)\n",
    "print(model.nodes[\"deficitCollico\"].flow)\n",
    "print(model.nodes[\"FRCollico\"].flow)\n",
    "print(model.nodes[\"bocatoma3\"].flow)\n",
    "print(model.nodes[\"bocatoma4\"].flow)\n"
   ]
  },
  {
   "cell_type": "code",
   "execution_count": null,
   "metadata": {},
   "outputs": [],
   "source": [
    "# from pywr.notebook import to_html\n",
    "# to_html(m,height=800,width=800,labels=True,attributes=True,title='Modelo Cuenca del Río Huasco')"
   ]
  },
  {
   "cell_type": "code",
   "execution_count": null,
   "metadata": {},
   "outputs": [],
   "source": [
    "from pywr.notebook import pywr_model_to_d3_json\n",
    "d3json=pywr_model_to_d3_json(model)\n",
    "import json\n",
    "with open(\"./d3.json\", \"w\") as fp:\n",
    "    json.dump(d3json,fp) "
   ]
  },
  {
   "cell_type": "code",
   "execution_count": null,
   "metadata": {},
   "outputs": [],
   "source": []
  }
 ],
 "metadata": {
  "kernelspec": {
   "display_name": "38",
   "language": "python",
   "name": "38"
  },
  "language_info": {
   "codemirror_mode": {
    "name": "ipython",
    "version": 3
   },
   "file_extension": ".py",
   "mimetype": "text/x-python",
   "name": "python",
   "nbconvert_exporter": "python",
   "pygments_lexer": "ipython3",
   "version": "3.8.15"
  },
  "toc-autonumbering": false,
  "toc-showcode": true
 },
 "nbformat": 4,
 "nbformat_minor": 4
}
