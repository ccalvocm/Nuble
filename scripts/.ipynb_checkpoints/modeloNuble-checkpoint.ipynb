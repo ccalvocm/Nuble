{
 "cells": [
  {
   "cell_type": "code",
   "execution_count": 9,
   "metadata": {
    "scrolled": false
   },
   "outputs": [
    {
     "ename": "NameError",
     "evalue": "name 'node' is not defined",
     "output_type": "error",
     "traceback": [
      "\u001b[1;31m---------------------------------------------------------------------------\u001b[0m",
      "\u001b[1;31mNameError\u001b[0m                                 Traceback (most recent call last)",
      "Cell \u001b[1;32mIn[9], line 56\u001b[0m\n\u001b[0;32m     53\u001b[0m \u001b[38;5;66;03m#     model.nodes['Zemita_b'].connect(aqfer)\u001b[39;00m\n\u001b[0;32m     54\u001b[0m     aqfer\u001b[38;5;241m.\u001b[39mconnect(model\u001b[38;5;241m.\u001b[39mnodes[\u001b[38;5;124m'\u001b[39m\u001b[38;5;124mZemita_mix\u001b[39m\u001b[38;5;124m'\u001b[39m], from_slot\u001b[38;5;241m=\u001b[39m\u001b[38;5;241m0\u001b[39m)\n\u001b[1;32m---> 56\u001b[0m     assert_allclose(\u001b[43mnode\u001b[49m\u001b[38;5;241m.\u001b[39mmrf_cost, \u001b[38;5;241m-\u001b[39m\u001b[38;5;241m1000\u001b[39m)\n\u001b[0;32m     57\u001b[0m     assert_allclose(node\u001b[38;5;241m.\u001b[39mcost, \u001b[38;5;241m0.0\u001b[39m)\n\u001b[0;32m     58\u001b[0m     \u001b[38;5;66;03m# remanentes del canal Zemita\u001b[39;00m\n",
      "\u001b[1;31mNameError\u001b[0m: name 'node' is not defined"
     ]
    }
   ],
   "source": [
    "from pywr.core import Model\n",
    "from pywr.notebook import draw_graph\n",
    "import matplotlib.pyplot as plt\n",
    "import os\n",
    "from pywr.domains.groundwater import KeatingAquifer\n",
    "from pywr.parameters.groundwater import KeatingStreamFlowParameter\n",
    "from pywr.core import Model, Input, Output, Link, Storage, Node, Catchment\n",
    "from pywr.recorders import (\n",
    "    NumpyArrayNodeRecorder,\n",
    "    NumpyArrayLevelRecorder,\n",
    "    NumpyArrayStorageRecorder,\n",
    ")\n",
    "import pandas\n",
    "import numpy as np\n",
    "import pytest\n",
    "\n",
    "def createAquifer(model,name):\n",
    "    num_streams = 1\n",
    "    num_additional_inputs = 0\n",
    "    stream_flow_levels = [[100.0, 125.0]]  # m\n",
    "    transmissivity = [1000, 20000]  # m2/d\n",
    "    transmissivity = [t * 0.001 for t in transmissivity]  # m3 to Ml\n",
    "    coefficient = 1  # no units\n",
    "    storativity = [0.05]  # %\n",
    "    levels = [0.0, 1000.0]  # m\n",
    "    area = 50000 * 50000  # m2\n",
    "    \n",
    "    aqfer = KeatingAquifer(\n",
    "        model,\n",
    "        name,\n",
    "        num_streams,\n",
    "        num_additional_inputs,\n",
    "        stream_flow_levels,\n",
    "        transmissivity,\n",
    "        coefficient,\n",
    "        levels,\n",
    "        area=area,\n",
    "        storativity=storativity)\n",
    "\n",
    "    aqfer.initial_level = 1\n",
    "    \n",
    "    return aqfer\n",
    "\n",
    "if __name__ == \"__main__\":\n",
    "    \n",
    "    path=\"nuble.json\"\n",
    "    model = Model.load(path)\n",
    "        \n",
    "    aqfer=createAquifer(model,'AC01_NIQ')\n",
    "        \n",
    "    model.nodes['REMVirguinJFRInput'].connect(aqfer)\n",
    "#     model.nodes['Zemita_b'].connect(aqfer)\n",
    "    aqfer.connect(model.nodes['Zemita_mix'], from_slot=0)\n",
    "    \n",
    "    # remanentes del canal Zemita\n",
    "    remZemita=Catchment(model,name='retZemita',flow=model.parameters[\"flowZemita_mix\"],cost=-1100)\n",
    "    remZemita.connect(model.nodes['bocatoma6'])\n",
    "    model.solver.name=\"glpk-edge\"\n",
    "    stats = model.run()\n",
    "    print(stats)\n",
    "    \n",
    "    plt.figure()\n",
    "    draw_graph(model, labels = True, attributes = True, width=900,height=900)\n",
    "    plt.show()\n"
   ]
  },
  {
   "cell_type": "code",
   "execution_count": 2,
   "metadata": {},
   "outputs": [],
   "source": [
    "# from pywr.notebook import to_html\n",
    "# to_html(m,height=800,width=800,labels=True,attributes=True,title='Modelo Cuenca del Río Huasco')"
   ]
  },
  {
   "cell_type": "code",
   "execution_count": 10,
   "metadata": {},
   "outputs": [],
   "source": [
    "from pywr.notebook import pywr_model_to_d3_json\n",
    "d3json=pywr_model_to_d3_json(model)\n",
    "import json\n",
    "with open(\"./d3.json\", \"w\") as fp:\n",
    "    json.dump(d3json,fp) "
   ]
  },
  {
   "cell_type": "code",
   "execution_count": null,
   "metadata": {},
   "outputs": [],
   "source": []
  }
 ],
 "metadata": {
  "kernelspec": {
   "display_name": "38",
   "language": "python",
   "name": "38"
  },
  "language_info": {
   "codemirror_mode": {
    "name": "ipython",
    "version": 3
   },
   "file_extension": ".py",
   "mimetype": "text/x-python",
   "name": "python",
   "nbconvert_exporter": "python",
   "pygments_lexer": "ipython3",
   "version": "3.8.15"
  },
  "toc-autonumbering": false,
  "toc-showcode": true
 },
 "nbformat": 4,
 "nbformat_minor": 4
}
