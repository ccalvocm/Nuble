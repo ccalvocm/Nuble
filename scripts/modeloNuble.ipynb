{
 "cells": [
  {
   "cell_type": "code",
   "execution_count": 21,
   "metadata": {},
   "outputs": [
    {
     "ename": "TypeError",
     "evalue": "'NoneType' object is not callable",
     "output_type": "error",
     "traceback": [
      "\u001b[1;31m---------------------------------------------------------------------------\u001b[0m",
      "\u001b[1;31mTypeError\u001b[0m                                 Traceback (most recent call last)",
      "Cell \u001b[1;32mIn[21], line 63\u001b[0m\n\u001b[0;32m     51\u001b[0m \u001b[38;5;66;03m#     model.nodes['Zemita_sup'].connect(aqfer)\u001b[39;00m\n\u001b[0;32m     52\u001b[0m \u001b[38;5;66;03m# #     model.nodes['Zemita_b'].connect(aqfer)\u001b[39;00m\n\u001b[0;32m     53\u001b[0m \u001b[38;5;66;03m#     aqfer.connect(model.nodes['Zemita_mix'], from_slot=0)\u001b[39;00m\n\u001b[1;32m   (...)\u001b[0m\n\u001b[0;32m     59\u001b[0m \u001b[38;5;66;03m#     stats = model.run()\u001b[39;00m\n\u001b[0;32m     60\u001b[0m \u001b[38;5;66;03m#     print(stats)\u001b[39;00m\n\u001b[0;32m     62\u001b[0m     plt\u001b[38;5;241m.\u001b[39mfigure()\n\u001b[1;32m---> 63\u001b[0m     \u001b[43mdraw_graph\u001b[49m\u001b[43m(\u001b[49m\u001b[43mmodel\u001b[49m\u001b[43m,\u001b[49m\u001b[43m \u001b[49m\u001b[43mlabels\u001b[49m\u001b[43m \u001b[49m\u001b[38;5;241;43m=\u001b[39;49m\u001b[43m \u001b[49m\u001b[38;5;28;43;01mTrue\u001b[39;49;00m\u001b[43m,\u001b[49m\u001b[43m \u001b[49m\u001b[43mattributes\u001b[49m\u001b[43m \u001b[49m\u001b[38;5;241;43m=\u001b[39;49m\u001b[43m \u001b[49m\u001b[38;5;28;43;01mTrue\u001b[39;49;00m\u001b[43m,\u001b[49m\u001b[43m \u001b[49m\u001b[43mwidth\u001b[49m\u001b[38;5;241;43m=\u001b[39;49m\u001b[38;5;241;43m900\u001b[39;49m\u001b[43m,\u001b[49m\u001b[43mheight\u001b[49m\u001b[38;5;241;43m=\u001b[39;49m\u001b[38;5;241;43m900\u001b[39;49m\u001b[43m)\u001b[49m\n\u001b[0;32m     64\u001b[0m     plt\u001b[38;5;241m.\u001b[39mshow()\n",
      "File \u001b[1;32mG:\\miniconda3\\envs\\38\\lib\\site-packages\\pywr\\notebook\\__init__.py:165\u001b[0m, in \u001b[0;36mdraw_graph\u001b[1;34m(model, width, height, labels, attributes, css)\u001b[0m\n\u001b[0;32m    160\u001b[0m \u001b[38;5;28;01mdef\u001b[39;00m \u001b[38;5;21mdraw_graph\u001b[39m(model, width\u001b[38;5;241m=\u001b[39m\u001b[38;5;241m500\u001b[39m, height\u001b[38;5;241m=\u001b[39m\u001b[38;5;241m400\u001b[39m, labels\u001b[38;5;241m=\u001b[39m\u001b[38;5;28;01mFalse\u001b[39;00m, attributes\u001b[38;5;241m=\u001b[39m\u001b[38;5;28;01mFalse\u001b[39;00m, css\u001b[38;5;241m=\u001b[39m\u001b[38;5;28;01mNone\u001b[39;00m):\n\u001b[0;32m    161\u001b[0m \u001b[38;5;250m    \u001b[39m\u001b[38;5;124;03m\"\"\"Display a Pywr model using D3 in Jupyter\u001b[39;00m\n\u001b[0;32m    162\u001b[0m \n\u001b[0;32m    163\u001b[0m \u001b[38;5;124;03m    Functionality for creating the d3 graph is now in the PywrSchematic object\u001b[39;00m\n\u001b[0;32m    164\u001b[0m \u001b[38;5;124;03m    \"\"\"\u001b[39;00m\n\u001b[1;32m--> 165\u001b[0m     schematic \u001b[38;5;241m=\u001b[39m \u001b[43mPywrSchematic\u001b[49m\u001b[43m(\u001b[49m\n\u001b[0;32m    166\u001b[0m \u001b[43m        \u001b[49m\u001b[43mmodel\u001b[49m\u001b[43m,\u001b[49m\u001b[43m \u001b[49m\u001b[43mwidth\u001b[49m\u001b[38;5;241;43m=\u001b[39;49m\u001b[43mwidth\u001b[49m\u001b[43m,\u001b[49m\u001b[43m \u001b[49m\u001b[43mheight\u001b[49m\u001b[38;5;241;43m=\u001b[39;49m\u001b[43mheight\u001b[49m\u001b[43m,\u001b[49m\u001b[43m \u001b[49m\u001b[43mlabels\u001b[49m\u001b[38;5;241;43m=\u001b[39;49m\u001b[43mlabels\u001b[49m\u001b[43m,\u001b[49m\u001b[43m \u001b[49m\u001b[43mattributes\u001b[49m\u001b[38;5;241;43m=\u001b[39;49m\u001b[43mattributes\u001b[49m\u001b[43m,\u001b[49m\u001b[43m \u001b[49m\u001b[43mcss\u001b[49m\u001b[38;5;241;43m=\u001b[39;49m\u001b[43mcss\u001b[49m\n\u001b[0;32m    167\u001b[0m \u001b[43m    \u001b[49m\u001b[43m)\u001b[49m\n\u001b[0;32m    168\u001b[0m     schematic\u001b[38;5;241m.\u001b[39mdraw_graph()\n",
      "File \u001b[1;32mG:\\miniconda3\\envs\\38\\lib\\site-packages\\pywr\\notebook\\__init__.py:54\u001b[0m, in \u001b[0;36mPywrSchematic.__init__\u001b[1;34m(self, model, width, height, labels, attributes, css)\u001b[0m\n\u001b[0;32m     31\u001b[0m \u001b[38;5;250m\u001b[39m\u001b[38;5;124;03m\"\"\"This object contains methods that allow the graph of a pywr model network to be displayed in a jupyter\u001b[39;00m\n\u001b[0;32m     32\u001b[0m \u001b[38;5;124;03mnotebook or saved to an html file.\u001b[39;00m\n\u001b[0;32m     33\u001b[0m \n\u001b[1;32m   (...)\u001b[0m\n\u001b[0;32m     51\u001b[0m \u001b[38;5;124;03m    Stylesheet data to use instead of default\u001b[39;00m\n\u001b[0;32m     52\u001b[0m \u001b[38;5;124;03m\"\"\"\u001b[39;00m\n\u001b[0;32m     53\u001b[0m \u001b[38;5;28;01mif\u001b[39;00m \u001b[38;5;28misinstance\u001b[39m(model, Model):\n\u001b[1;32m---> 54\u001b[0m     \u001b[38;5;28mself\u001b[39m\u001b[38;5;241m.\u001b[39mgraph \u001b[38;5;241m=\u001b[39m \u001b[43mpywr_model_to_d3_json\u001b[49m\u001b[43m(\u001b[49m\u001b[43mmodel\u001b[49m\u001b[43m,\u001b[49m\u001b[43m \u001b[49m\u001b[43mattributes\u001b[49m\u001b[43m)\u001b[49m\n\u001b[0;32m     55\u001b[0m     \u001b[38;5;66;03m# TODO update when schema branch is merged\u001b[39;00m\n\u001b[0;32m     56\u001b[0m     \u001b[38;5;28mself\u001b[39m\u001b[38;5;241m.\u001b[39mjson \u001b[38;5;241m=\u001b[39m \u001b[38;5;28;01mNone\u001b[39;00m\n",
      "File \u001b[1;32mG:\\miniconda3\\envs\\38\\lib\\site-packages\\pywr\\notebook\\__init__.py:228\u001b[0m, in \u001b[0;36mpywr_model_to_d3_json\u001b[1;34m(model, attributes)\u001b[0m\n\u001b[0;32m    225\u001b[0m         \u001b[38;5;28;01mpass\u001b[39;00m\n\u001b[0;32m    227\u001b[0m     \u001b[38;5;28;01mif\u001b[39;00m attributes:\n\u001b[1;32m--> 228\u001b[0m         node_dict[\u001b[38;5;124m\"\u001b[39m\u001b[38;5;124mattributes\u001b[39m\u001b[38;5;124m\"\u001b[39m] \u001b[38;5;241m=\u001b[39m \u001b[43mget_node_attr\u001b[49m\u001b[43m(\u001b[49m\u001b[43mnode\u001b[49m\u001b[43m)\u001b[49m\n\u001b[0;32m    230\u001b[0m     json_nodes\u001b[38;5;241m.\u001b[39mappend(node_dict)\n\u001b[0;32m    232\u001b[0m graph \u001b[38;5;241m=\u001b[39m {\u001b[38;5;124m\"\u001b[39m\u001b[38;5;124mnodes\u001b[39m\u001b[38;5;124m\"\u001b[39m: json_nodes, \u001b[38;5;124m\"\u001b[39m\u001b[38;5;124mlinks\u001b[39m\u001b[38;5;124m\"\u001b[39m: edges}\n",
      "File \u001b[1;32mG:\\miniconda3\\envs\\38\\lib\\site-packages\\pywr\\notebook\\__init__.py:245\u001b[0m, in \u001b[0;36mget_node_attr\u001b[1;34m(node)\u001b[0m\n\u001b[0;32m    237\u001b[0m \u001b[38;5;28;01mdef\u001b[39;00m \u001b[38;5;21mget_node_attr\u001b[39m(node):\n\u001b[0;32m    238\u001b[0m \u001b[38;5;250m    \u001b[39m\u001b[38;5;124;03m\"\"\"\u001b[39;00m\n\u001b[0;32m    239\u001b[0m \u001b[38;5;124;03m    Returns a dictionary that contains node attributes as strings\u001b[39;00m\n\u001b[0;32m    240\u001b[0m \n\u001b[1;32m   (...)\u001b[0m\n\u001b[0;32m    243\u001b[0m \u001b[38;5;124;03m    node : a pywr node object\u001b[39;00m\n\u001b[0;32m    244\u001b[0m \u001b[38;5;124;03m    \"\"\"\u001b[39;00m\n\u001b[1;32m--> 245\u001b[0m     attrs \u001b[38;5;241m=\u001b[39m \u001b[43minspect\u001b[49m\u001b[38;5;241;43m.\u001b[39;49m\u001b[43mgetmembers\u001b[49m\u001b[43m(\u001b[49m\u001b[43mnode\u001b[49m\u001b[43m,\u001b[49m\u001b[43m \u001b[49m\u001b[38;5;28;43;01mlambda\u001b[39;49;00m\u001b[43m \u001b[49m\u001b[43ma\u001b[49m\u001b[43m:\u001b[49m\u001b[43m \u001b[49m\u001b[38;5;129;43;01mnot\u001b[39;49;00m\u001b[43m \u001b[49m\u001b[43m(\u001b[49m\u001b[43minspect\u001b[49m\u001b[38;5;241;43m.\u001b[39;49m\u001b[43misroutine\u001b[49m\u001b[43m(\u001b[49m\u001b[43ma\u001b[49m\u001b[43m)\u001b[49m\u001b[43m)\u001b[49m\u001b[43m)\u001b[49m\n\u001b[0;32m    246\u001b[0m     attribute_data \u001b[38;5;241m=\u001b[39m []\n\u001b[0;32m    247\u001b[0m     \u001b[38;5;28;01mfor\u001b[39;00m att \u001b[38;5;129;01min\u001b[39;00m attrs:\n",
      "File \u001b[1;32mG:\\miniconda3\\envs\\38\\lib\\inspect.py:350\u001b[0m, in \u001b[0;36mgetmembers\u001b[1;34m(object, predicate)\u001b[0m\n\u001b[0;32m    345\u001b[0m \u001b[38;5;28;01mfor\u001b[39;00m key \u001b[38;5;129;01min\u001b[39;00m names:\n\u001b[0;32m    346\u001b[0m     \u001b[38;5;66;03m# First try to get the value via getattr.  Some descriptors don't\u001b[39;00m\n\u001b[0;32m    347\u001b[0m     \u001b[38;5;66;03m# like calling their __get__ (see bug #1785), so fall back to\u001b[39;00m\n\u001b[0;32m    348\u001b[0m     \u001b[38;5;66;03m# looking in the __dict__.\u001b[39;00m\n\u001b[0;32m    349\u001b[0m     \u001b[38;5;28;01mtry\u001b[39;00m:\n\u001b[1;32m--> 350\u001b[0m         value \u001b[38;5;241m=\u001b[39m \u001b[38;5;28;43mgetattr\u001b[39;49m\u001b[43m(\u001b[49m\u001b[38;5;28;43mobject\u001b[39;49m\u001b[43m,\u001b[49m\u001b[43m \u001b[49m\u001b[43mkey\u001b[49m\u001b[43m)\u001b[49m\n\u001b[0;32m    351\u001b[0m         \u001b[38;5;66;03m# handle the duplicate key\u001b[39;00m\n\u001b[0;32m    352\u001b[0m         \u001b[38;5;28;01mif\u001b[39;00m key \u001b[38;5;129;01min\u001b[39;00m processed:\n",
      "File \u001b[1;32mG:\\miniconda3\\envs\\38\\lib\\site-packages\\pywr\\domains\\groundwater.py:118\u001b[0m, in \u001b[0;36mKeatingAquifer.initial_level.<locals>.fget\u001b[1;34m(self)\u001b[0m\n\u001b[0;32m    116\u001b[0m \u001b[38;5;28;01mdef\u001b[39;00m \u001b[38;5;21mfget\u001b[39m(\u001b[38;5;28mself\u001b[39m):\n\u001b[0;32m    117\u001b[0m     \u001b[38;5;66;03m# get the initial level from the volume\u001b[39;00m\n\u001b[1;32m--> 118\u001b[0m     \u001b[38;5;28;01mreturn\u001b[39;00m \u001b[38;5;28;43mself\u001b[39;49m\u001b[38;5;241;43m.\u001b[39;49m\u001b[43mlevel\u001b[49m\u001b[38;5;241;43m.\u001b[39;49m\u001b[43minterp\u001b[49m\u001b[43m(\u001b[49m\u001b[38;5;28;43mself\u001b[39;49m\u001b[38;5;241;43m.\u001b[39;49m\u001b[43minitial_volume\u001b[49m\u001b[43m)\u001b[49m\n",
      "\u001b[1;31mTypeError\u001b[0m: 'NoneType' object is not callable"
     ]
    },
    {
     "data": {
      "text/plain": [
       "<Figure size 640x480 with 0 Axes>"
      ]
     },
     "metadata": {},
     "output_type": "display_data"
    }
   ],
   "source": [
    "from pywr.core import Model\n",
    "from pywr.notebook import draw_graph\n",
    "import matplotlib.pyplot as plt\n",
    "import os\n",
    "from pywr.domains.groundwater import KeatingAquifer\n",
    "from pywr.parameters.groundwater import KeatingStreamFlowParameter\n",
    "from pywr.core import Model, Input, Output, Link, Storage, Node, Catchment\n",
    "from pywr.recorders import (\n",
    "    NumpyArrayNodeRecorder,\n",
    "    NumpyArrayLevelRecorder,\n",
    "    NumpyArrayStorageRecorder,\n",
    ")\n",
    "import pandas\n",
    "import numpy as np\n",
    "import pytest\n",
    "\n",
    "def createAquifer(model,name):\n",
    "    num_streams = 1\n",
    "    num_additional_inputs = 0\n",
    "    stream_flow_levels = [[100.0, 125.0]]  # m\n",
    "    transmissivity = [1000, 20000]  # m2/d\n",
    "    transmissivity = [t * 0.001 for t in transmissivity]  # m3 to Ml\n",
    "    coefficient = 1  # no units\n",
    "    storativity = [0.05]  # %\n",
    "    levels = [0.0, 1000.0]  # m\n",
    "    area = 50000 * 50000  # m2\n",
    "    \n",
    "    aqfer = KeatingAquifer(\n",
    "        model,\n",
    "        name,\n",
    "        num_streams,\n",
    "        num_additional_inputs,\n",
    "        stream_flow_levels,\n",
    "        transmissivity,\n",
    "        coefficient,\n",
    "        levels,\n",
    "        area=area,\n",
    "        storativity=storativity)\n",
    "\n",
    "    aqfer.initial_level = 1\n",
    "    \n",
    "    return aqfer\n",
    "\n",
    "if __name__ == \"__main__\":\n",
    "    \n",
    "    path=\"nuble.json\"\n",
    "    model = Model.load(path)\n",
    "        \n",
    "    aqfer=createAquifer(model,'AC01_NIQ')\n",
    "        \n",
    "#     model.nodes['Zemita_sup'].connect(aqfer)\n",
    "# #     model.nodes['Zemita_b'].connect(aqfer)\n",
    "#     aqfer.connect(model.nodes['Zemita_mix'], from_slot=0)\n",
    "    \n",
    "#     # remanentes del canal Zemita\n",
    "#     remZemita=Catchment(model,name='retZemita',flow=model.parameters[\"flowZemita_mix\"],cost=-1100)\n",
    "#     remZemita.connect(model.nodes['bocatoma6'])\n",
    "#     model.solver.name=\"glpk-edge\"\n",
    "#     stats = model.run()\n",
    "#     print(stats)\n",
    "    \n",
    "    plt.figure()\n",
    "    draw_graph(model, labels = True, attributes = True, width=900,height=900)\n",
    "    plt.show()\n"
   ]
  },
  {
   "cell_type": "code",
   "execution_count": 2,
   "metadata": {},
   "outputs": [],
   "source": [
    "# from pywr.notebook import to_html\n",
    "# to_html(m,height=800,width=800,labels=True,attributes=True,title='Modelo Cuenca del Río Huasco')"
   ]
  },
  {
   "cell_type": "code",
   "execution_count": 10,
   "metadata": {},
   "outputs": [],
   "source": [
    "from pywr.notebook import pywr_model_to_d3_json\n",
    "d3json=pywr_model_to_d3_json(model)\n",
    "import json\n",
    "with open(\"./d3.json\", \"w\") as fp:\n",
    "    json.dump(d3json,fp) "
   ]
  },
  {
   "cell_type": "code",
   "execution_count": null,
   "metadata": {},
   "outputs": [],
   "source": []
  }
 ],
 "metadata": {
  "kernelspec": {
   "display_name": "38",
   "language": "python",
   "name": "38"
  },
  "language_info": {
   "codemirror_mode": {
    "name": "ipython",
    "version": 3
   },
   "file_extension": ".py",
   "mimetype": "text/x-python",
   "name": "python",
   "nbconvert_exporter": "python",
   "pygments_lexer": "ipython3",
   "version": "3.8.15"
  },
  "toc-autonumbering": false,
  "toc-showcode": true
 },
 "nbformat": 4,
 "nbformat_minor": 4
}
